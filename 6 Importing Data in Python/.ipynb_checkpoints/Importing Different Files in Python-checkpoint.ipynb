{
 "cells": [
  {
   "cell_type": "markdown",
   "metadata": {},
   "source": [
    "## Importing Different Files in Python\n",
    "\n",
    "- Local File\n",
    " - Plain text, csv, tsv\n",
    "- Database\n",
    " - SQLite, MongoDB\n",
    "- Remote File\n",
    " - HTML, JSON, Csv\n",
    "- Excel File, Matlab .m file\n",
    "- Web API - Facebook or Google API"
   ]
  },
  {
   "cell_type": "markdown",
   "metadata": {},
   "source": [
    "## Reading text file\n",
    "\n",
    "- Without Context Manager\n",
    "- With Context Manager"
   ]
  },
  {
   "cell_type": "markdown",
   "metadata": {},
   "source": [
    "### Without Context Manager"
   ]
  },
  {
   "cell_type": "code",
   "execution_count": 35,
   "metadata": {},
   "outputs": [],
   "source": [
    "file = open(\"2.1 news.txt.txt\", 'r')\n",
    "\n",
    "# mode - r -read | w - write"
   ]
  },
  {
   "cell_type": "code",
   "execution_count": 36,
   "metadata": {},
   "outputs": [
    {
     "data": {
      "text/plain": [
       "'Why Infrastructure Is So Expensive \\nA subway-style diagram of the major Roman roads\\nBaby Bird from Time of Dinosaurs Found Fossilized\\nMIT Gets $140M Pledge from Anonymous Donor (wsj.com)\\nHow hackers abused satellites to stay under the radar (2015)\\nFiduciary Rule Fight Brews While Bad Financial Advisers\\nIn 1957, Five Men Agreed to Stand Under an Exploding Nuclear Bomb\\n'"
      ]
     },
     "execution_count": 36,
     "metadata": {},
     "output_type": "execute_result"
    }
   ],
   "source": [
    "file.read()"
   ]
  },
  {
   "cell_type": "code",
   "execution_count": 37,
   "metadata": {},
   "outputs": [
    {
     "data": {
      "text/plain": [
       "False"
      ]
     },
     "execution_count": 37,
     "metadata": {},
     "output_type": "execute_result"
    }
   ],
   "source": [
    "file.closed #it gives false because its opened"
   ]
  },
  {
   "cell_type": "code",
   "execution_count": 38,
   "metadata": {},
   "outputs": [],
   "source": [
    "file.close() #we are manually closing it"
   ]
  },
  {
   "cell_type": "markdown",
   "metadata": {},
   "source": [
    "### With Context Manager\n",
    "\n",
    "In context manager, the file is automatically closed without our interpretation. To read everyline we have to run again n again"
   ]
  },
  {
   "cell_type": "code",
   "execution_count": 39,
   "metadata": {},
   "outputs": [
    {
     "name": "stdout",
     "output_type": "stream",
     "text": [
      "Why Infrastructure Is So Expensive \n",
      "\n",
      "A subway-style diagram of the major Roman roads\n",
      "\n"
     ]
    }
   ],
   "source": [
    "with open(\"2.1 news.txt.txt\", 'r') as file1:\n",
    "          print(file1.readline())\n",
    "          print(file1.readline())\n",
    "        "
   ]
  },
  {
   "cell_type": "markdown",
   "metadata": {},
   "source": [
    "## Reading .csv File\n",
    "\n",
    "we are reading .csv file by numpy as well as pandas"
   ]
  },
  {
   "cell_type": "code",
   "execution_count": 40,
   "metadata": {},
   "outputs": [],
   "source": [
    "import numpy as np\n",
    "import pandas as pd"
   ]
  },
  {
   "cell_type": "code",
   "execution_count": 41,
   "metadata": {},
   "outputs": [],
   "source": [
    "mnist_data = np.loadtxt(\"3.2 mnist.csv.csv\",dtype = float, comments = '#', delimiter = ',')\n",
    "\n",
    "# when we actually check data,it's numeric and\n",
    "# is present in the data which means it must be excluded. we have COMMENTS for that.\n",
    "# delimiter is used to separate the data"
   ]
  },
  {
   "cell_type": "code",
   "execution_count": 42,
   "metadata": {},
   "outputs": [
    {
     "data": {
      "text/plain": [
       "array([[5., 0., 0., ..., 0., 0., 0.],\n",
       "       [4., 0., 0., ..., 0., 0., 0.],\n",
       "       [1., 0., 0., ..., 0., 0., 0.],\n",
       "       ...,\n",
       "       [1., 0., 0., ..., 0., 0., 0.],\n",
       "       [3., 0., 0., ..., 0., 0., 0.],\n",
       "       [1., 0., 0., ..., 0., 0., 0.]])"
      ]
     },
     "execution_count": 42,
     "metadata": {},
     "output_type": "execute_result"
    }
   ],
   "source": [
    "mnist_data"
   ]
  },
  {
   "cell_type": "code",
   "execution_count": 43,
   "metadata": {},
   "outputs": [],
   "source": [
    "#Let's see what if the data is string/non-numeric"
   ]
  },
  {
   "cell_type": "code",
   "execution_count": 18,
   "metadata": {},
   "outputs": [],
   "source": [
    "titanic_data = np.genfromtxt(\"3.1 titanic.csv.csv\", dtype = None, delimiter = ',', skip_header = 1,encoding = \"utf8\")\n",
    "\n",
    "#dtype - none, data is a mixture of numbers and string\n",
    "#skip_header will exclude the header title for appending in data"
   ]
  },
  {
   "cell_type": "code",
   "execution_count": 19,
   "metadata": {},
   "outputs": [
    {
     "data": {
      "text/plain": [
       "array([( 1, '1st', 'Male', 'Child', 'No', '0'),\n",
       "       ( 2, '2nd', 'Male', 'Child', 'No', '0'),\n",
       "       ( 3, '3rd', 'Male', 'Child', 'No', '35'),\n",
       "       ( 4, 'Crew', 'Male', 'Child', 'No', '0'),\n",
       "       ( 5, '1st', 'Female', 'Child', 'No', '0'),\n",
       "       ( 6, '2nd', 'Female', 'Child', 'No', '0␊'),\n",
       "       ( 7, '3rd', 'Female', 'Child', 'No', '17'),\n",
       "       ( 8, 'Crew', 'Female', 'Child', 'No', '0'),\n",
       "       ( 9, '1st', 'Male', 'Adult', 'No', '118'),\n",
       "       (10, '2nd', 'Male', 'Adult', 'No', '154'),\n",
       "       (11, '3rd', 'Male', 'Adult', 'No', '387'),\n",
       "       (12, 'Crew', 'Male', 'Adult', 'No', '670'),\n",
       "       (13, '1st', 'Female', 'Adult', 'No', '4'),\n",
       "       (14, '2nd', 'Female', 'Adult', 'No', '13'),\n",
       "       (15, '3rd', 'Female', 'Adult', 'No', '89'),\n",
       "       (16, 'Crew', 'Female', 'Adult', 'No', '3'),\n",
       "       (17, '1st', 'Male', 'Child', 'Yes', '5'),\n",
       "       (18, '2nd', 'Male', 'Child', 'Yes', '11'),\n",
       "       (19, '3rd', 'Male', 'Child', 'Yes', '13'),\n",
       "       (20, 'Crew', 'Male', 'Child', 'Yes', '0'),\n",
       "       (21, '1st', 'Female', 'Child', 'Yes', '1'),\n",
       "       (22, '2nd', 'Female', 'Child', 'Yes', '13'),\n",
       "       (23, '3rd', 'Female', 'Child', 'Yes', '14'),\n",
       "       (24, 'Crew', 'Female', 'Child', 'Yes', '0'),\n",
       "       (25, '1st', 'Male', 'Adult', 'Yes', '57'),\n",
       "       (26, '2nd', 'Male', 'Adult', 'Yes', '14'),\n",
       "       (27, '3rd', 'Male', 'Adult', 'Yes', '75'),\n",
       "       (28, 'Crew', 'Male', 'Adult', 'Yes', '192'),\n",
       "       (29, '1st', 'Female', 'Adult', 'Yes', '140'),\n",
       "       (30, '2nd', 'Female', 'Adult', 'Yes', '80')],\n",
       "      dtype=[('f0', '<i4'), ('f1', '<U4'), ('f2', '<U6'), ('f3', '<U5'), ('f4', '<U3'), ('f5', '<U3')])"
      ]
     },
     "execution_count": 19,
     "metadata": {},
     "output_type": "execute_result"
    }
   ],
   "source": [
    "titanic_data"
   ]
  },
  {
   "cell_type": "code",
   "execution_count": 20,
   "metadata": {},
   "outputs": [],
   "source": [
    "#Let's do the same through pandas library"
   ]
  },
  {
   "cell_type": "code",
   "execution_count": 21,
   "metadata": {},
   "outputs": [],
   "source": [
    "titanic = pd.read_csv(\"3.1 titanic.csv.csv\",sep = ',') #here delimiter is separator"
   ]
  },
  {
   "cell_type": "code",
   "execution_count": 22,
   "metadata": {},
   "outputs": [
    {
     "data": {
      "text/html": [
       "<div>\n",
       "<style scoped>\n",
       "    .dataframe tbody tr th:only-of-type {\n",
       "        vertical-align: middle;\n",
       "    }\n",
       "\n",
       "    .dataframe tbody tr th {\n",
       "        vertical-align: top;\n",
       "    }\n",
       "\n",
       "    .dataframe thead th {\n",
       "        text-align: right;\n",
       "    }\n",
       "</style>\n",
       "<table border=\"1\" class=\"dataframe\">\n",
       "  <thead>\n",
       "    <tr style=\"text-align: right;\">\n",
       "      <th></th>\n",
       "      <th>No</th>\n",
       "      <th>Class</th>\n",
       "      <th>Sex</th>\n",
       "      <th>Age</th>\n",
       "      <th>Survived</th>\n",
       "      <th>Freq</th>\n",
       "    </tr>\n",
       "  </thead>\n",
       "  <tbody>\n",
       "    <tr>\n",
       "      <th>0</th>\n",
       "      <td>1</td>\n",
       "      <td>1st</td>\n",
       "      <td>Male</td>\n",
       "      <td>Child</td>\n",
       "      <td>No</td>\n",
       "      <td>0</td>\n",
       "    </tr>\n",
       "    <tr>\n",
       "      <th>1</th>\n",
       "      <td>2</td>\n",
       "      <td>2nd</td>\n",
       "      <td>Male</td>\n",
       "      <td>Child</td>\n",
       "      <td>No</td>\n",
       "      <td>0</td>\n",
       "    </tr>\n",
       "    <tr>\n",
       "      <th>2</th>\n",
       "      <td>3</td>\n",
       "      <td>3rd</td>\n",
       "      <td>Male</td>\n",
       "      <td>Child</td>\n",
       "      <td>No</td>\n",
       "      <td>35</td>\n",
       "    </tr>\n",
       "    <tr>\n",
       "      <th>3</th>\n",
       "      <td>4</td>\n",
       "      <td>Crew</td>\n",
       "      <td>Male</td>\n",
       "      <td>Child</td>\n",
       "      <td>No</td>\n",
       "      <td>0</td>\n",
       "    </tr>\n",
       "    <tr>\n",
       "      <th>4</th>\n",
       "      <td>5</td>\n",
       "      <td>1st</td>\n",
       "      <td>Female</td>\n",
       "      <td>Child</td>\n",
       "      <td>No</td>\n",
       "      <td>0</td>\n",
       "    </tr>\n",
       "  </tbody>\n",
       "</table>\n",
       "</div>"
      ],
      "text/plain": [
       "   No Class     Sex    Age Survived Freq\n",
       "0   1   1st    Male  Child       No    0\n",
       "1   2   2nd    Male  Child       No    0\n",
       "2   3   3rd    Male  Child       No   35\n",
       "3   4  Crew    Male  Child       No    0\n",
       "4   5   1st  Female  Child       No    0"
      ]
     },
     "execution_count": 22,
     "metadata": {},
     "output_type": "execute_result"
    }
   ],
   "source": [
    "titanic.head()"
   ]
  },
  {
   "cell_type": "markdown",
   "metadata": {},
   "source": [
    "## Excel and Matlab .m File"
   ]
  },
  {
   "cell_type": "code",
   "execution_count": 23,
   "metadata": {},
   "outputs": [],
   "source": [
    "#we have two sheets in our excel"
   ]
  },
  {
   "cell_type": "code",
   "execution_count": 24,
   "metadata": {},
   "outputs": [],
   "source": [
    "file1 = pd.ExcelFile('4.1 ExcelTest.xlsx.xlsx')"
   ]
  },
  {
   "cell_type": "code",
   "execution_count": 25,
   "metadata": {},
   "outputs": [
    {
     "data": {
      "text/plain": [
       "['s1', 's2']"
      ]
     },
     "execution_count": 25,
     "metadata": {},
     "output_type": "execute_result"
    }
   ],
   "source": [
    "file1.sheet_names #it shows the sheets names in excel"
   ]
  },
  {
   "cell_type": "code",
   "execution_count": 27,
   "metadata": {},
   "outputs": [
    {
     "data": {
      "text/html": [
       "<div>\n",
       "<style scoped>\n",
       "    .dataframe tbody tr th:only-of-type {\n",
       "        vertical-align: middle;\n",
       "    }\n",
       "\n",
       "    .dataframe tbody tr th {\n",
       "        vertical-align: top;\n",
       "    }\n",
       "\n",
       "    .dataframe thead th {\n",
       "        text-align: right;\n",
       "    }\n",
       "</style>\n",
       "<table border=\"1\" class=\"dataframe\">\n",
       "  <thead>\n",
       "    <tr style=\"text-align: right;\">\n",
       "      <th></th>\n",
       "      <th>Eldon Base for stackable storage shelf, platinum</th>\n",
       "      <th>Muhammed MacIntyre</th>\n",
       "      <th>3</th>\n",
       "      <th>-213.25</th>\n",
       "      <th>38.94</th>\n",
       "      <th>35</th>\n",
       "      <th>Nunavut</th>\n",
       "      <th>Storage &amp; Organization</th>\n",
       "      <th>0.8</th>\n",
       "    </tr>\n",
       "  </thead>\n",
       "  <tbody>\n",
       "    <tr>\n",
       "      <th>1</th>\n",
       "      <td>1.7 Cubic Foot Compact \"Cube\" Office Refrigera...</td>\n",
       "      <td>Barry French</td>\n",
       "      <td>293</td>\n",
       "      <td>457.8100</td>\n",
       "      <td>208.16</td>\n",
       "      <td>68.02</td>\n",
       "      <td>Nunavut</td>\n",
       "      <td>Appliances</td>\n",
       "      <td>0.58</td>\n",
       "    </tr>\n",
       "    <tr>\n",
       "      <th>2</th>\n",
       "      <td>Cardinal Slant-D® Ring Binder, Heavy Gauge Vinyl</td>\n",
       "      <td>Barry French</td>\n",
       "      <td>293</td>\n",
       "      <td>46.7075</td>\n",
       "      <td>8.69</td>\n",
       "      <td>2.99</td>\n",
       "      <td>Nunavut</td>\n",
       "      <td>Binders and Binder Accessories</td>\n",
       "      <td>0.39</td>\n",
       "    </tr>\n",
       "    <tr>\n",
       "      <th>3</th>\n",
       "      <td>R380</td>\n",
       "      <td>Clay Rozendal</td>\n",
       "      <td>483</td>\n",
       "      <td>1198.9710</td>\n",
       "      <td>195.99</td>\n",
       "      <td>3.99</td>\n",
       "      <td>Nunavut</td>\n",
       "      <td>Telephones and Communication</td>\n",
       "      <td>0.58</td>\n",
       "    </tr>\n",
       "    <tr>\n",
       "      <th>4</th>\n",
       "      <td>Holmes HEPA Air Purifier</td>\n",
       "      <td>Carlos Soltero</td>\n",
       "      <td>515</td>\n",
       "      <td>30.9400</td>\n",
       "      <td>21.78</td>\n",
       "      <td>5.94</td>\n",
       "      <td>Nunavut</td>\n",
       "      <td>Appliances</td>\n",
       "      <td>0.50</td>\n",
       "    </tr>\n",
       "    <tr>\n",
       "      <th>5</th>\n",
       "      <td>G.E. Longer-Life Indoor Recessed Floodlight Bulbs</td>\n",
       "      <td>Carlos Soltero</td>\n",
       "      <td>515</td>\n",
       "      <td>4.4300</td>\n",
       "      <td>6.64</td>\n",
       "      <td>4.95</td>\n",
       "      <td>Nunavut</td>\n",
       "      <td>Office Furnishings</td>\n",
       "      <td>0.37</td>\n",
       "    </tr>\n",
       "    <tr>\n",
       "      <th>6</th>\n",
       "      <td>Angle-D Binders with Locking Rings, Label Holders</td>\n",
       "      <td>Carl Jackson</td>\n",
       "      <td>613</td>\n",
       "      <td>-54.0385</td>\n",
       "      <td>7.30</td>\n",
       "      <td>7.72</td>\n",
       "      <td>Nunavut</td>\n",
       "      <td>Binders and Binder Accessories</td>\n",
       "      <td>0.38</td>\n",
       "    </tr>\n",
       "    <tr>\n",
       "      <th>7</th>\n",
       "      <td>SAFCO Mobile Desk Side File, Wire Frame</td>\n",
       "      <td>Carl Jackson</td>\n",
       "      <td>613</td>\n",
       "      <td>127.7000</td>\n",
       "      <td>42.76</td>\n",
       "      <td>6.22</td>\n",
       "      <td>Nunavut</td>\n",
       "      <td>Storage &amp; Organization</td>\n",
       "      <td>NaN</td>\n",
       "    </tr>\n",
       "    <tr>\n",
       "      <th>8</th>\n",
       "      <td>SAFCO Commercial Wire Shelving, Black</td>\n",
       "      <td>Monica Federle</td>\n",
       "      <td>643</td>\n",
       "      <td>-695.2600</td>\n",
       "      <td>138.14</td>\n",
       "      <td>35.00</td>\n",
       "      <td>Nunavut</td>\n",
       "      <td>Storage &amp; Organization</td>\n",
       "      <td>NaN</td>\n",
       "    </tr>\n",
       "    <tr>\n",
       "      <th>9</th>\n",
       "      <td>Xerox 198</td>\n",
       "      <td>Dorothy Badders</td>\n",
       "      <td>678</td>\n",
       "      <td>-226.3600</td>\n",
       "      <td>4.98</td>\n",
       "      <td>8.33</td>\n",
       "      <td>Nunavut</td>\n",
       "      <td>Paper</td>\n",
       "      <td>0.38</td>\n",
       "    </tr>\n",
       "  </tbody>\n",
       "</table>\n",
       "</div>"
      ],
      "text/plain": [
       "    Eldon Base for stackable storage shelf, platinum Muhammed MacIntyre    3  \\\n",
       "1  1.7 Cubic Foot Compact \"Cube\" Office Refrigera...       Barry French  293   \n",
       "2   Cardinal Slant-D® Ring Binder, Heavy Gauge Vinyl       Barry French  293   \n",
       "3                                               R380      Clay Rozendal  483   \n",
       "4                           Holmes HEPA Air Purifier     Carlos Soltero  515   \n",
       "5  G.E. Longer-Life Indoor Recessed Floodlight Bulbs     Carlos Soltero  515   \n",
       "6  Angle-D Binders with Locking Rings, Label Holders       Carl Jackson  613   \n",
       "7            SAFCO Mobile Desk Side File, Wire Frame       Carl Jackson  613   \n",
       "8              SAFCO Commercial Wire Shelving, Black     Monica Federle  643   \n",
       "9                                          Xerox 198    Dorothy Badders  678   \n",
       "\n",
       "     -213.25   38.94     35  Nunavut          Storage & Organization   0.8  \n",
       "1   457.8100  208.16  68.02  Nunavut                      Appliances  0.58  \n",
       "2    46.7075    8.69   2.99  Nunavut  Binders and Binder Accessories  0.39  \n",
       "3  1198.9710  195.99   3.99  Nunavut    Telephones and Communication  0.58  \n",
       "4    30.9400   21.78   5.94  Nunavut                      Appliances  0.50  \n",
       "5     4.4300    6.64   4.95  Nunavut              Office Furnishings  0.37  \n",
       "6   -54.0385    7.30   7.72  Nunavut  Binders and Binder Accessories  0.38  \n",
       "7   127.7000   42.76   6.22  Nunavut          Storage & Organization   NaN  \n",
       "8  -695.2600  138.14  35.00  Nunavut          Storage & Organization   NaN  \n",
       "9  -226.3600    4.98   8.33  Nunavut                           Paper  0.38  "
      ]
     },
     "execution_count": 27,
     "metadata": {},
     "output_type": "execute_result"
    }
   ],
   "source": [
    "file1.parse('s1') #reads the data in s1 sheet"
   ]
  },
  {
   "cell_type": "code",
   "execution_count": 29,
   "metadata": {},
   "outputs": [],
   "source": [
    "#import scipy lab for accessing matlab file\n",
    "from scipy.io import loadmat "
   ]
  },
  {
   "cell_type": "code",
   "execution_count": 30,
   "metadata": {},
   "outputs": [],
   "source": [
    "x = loadmat('MatlabTest.mat')"
   ]
  },
  {
   "cell_type": "code",
   "execution_count": 32,
   "metadata": {},
   "outputs": [
    {
     "data": {
      "text/plain": [
       "{'__header__': b'MATLAB 5.0 MAT-file Platform: posix, Created on: Sun Jun 18 12:46:39 2017',\n",
       " '__version__': '1.0',\n",
       " '__globals__': [],\n",
       " 'data': array([[['a', '1'],\n",
       "         ['b', '2']]], dtype='<U1')}"
      ]
     },
     "execution_count": 32,
     "metadata": {},
     "output_type": "execute_result"
    }
   ],
   "source": [
    "x #this gives the info inside the file"
   ]
  },
  {
   "cell_type": "code",
   "execution_count": 34,
   "metadata": {},
   "outputs": [
    {
     "data": {
      "text/plain": [
       "array([[['a', '1'],\n",
       "        ['b', '2']]], dtype='<U1')"
      ]
     },
     "execution_count": 34,
     "metadata": {},
     "output_type": "execute_result"
    }
   ],
   "source": [
    "x['data'] #results the data part"
   ]
  },
  {
   "cell_type": "markdown",
   "metadata": {},
   "source": [
    "## SQLite - Relational Database"
   ]
  },
  {
   "cell_type": "code",
   "execution_count": 44,
   "metadata": {},
   "outputs": [],
   "source": [
    "import sqlite3"
   ]
  },
  {
   "cell_type": "code",
   "execution_count": 46,
   "metadata": {},
   "outputs": [],
   "source": [
    "conn = sqlite3.connect('SqliteTestDb.db') #we are connecting to the database"
   ]
  },
  {
   "cell_type": "code",
   "execution_count": 47,
   "metadata": {},
   "outputs": [],
   "source": [
    "cur = conn.cursor() #Return a cursor for the connection."
   ]
  },
  {
   "cell_type": "code",
   "execution_count": 48,
   "metadata": {},
   "outputs": [
    {
     "data": {
      "text/plain": [
       "<sqlite3.Cursor at 0x8c3bdc0>"
      ]
     },
     "execution_count": 48,
     "metadata": {},
     "output_type": "execute_result"
    }
   ],
   "source": [
    "cur.execute(\"select * from employees\") #grabs all data under employees table"
   ]
  },
  {
   "cell_type": "code",
   "execution_count": 49,
   "metadata": {},
   "outputs": [],
   "source": [
    "df = cur.fetchall()"
   ]
  },
  {
   "cell_type": "code",
   "execution_count": 51,
   "metadata": {},
   "outputs": [
    {
     "name": "stdout",
     "output_type": "stream",
     "text": [
      "(1, 'Adams', 'Andrew', 'General Manager', None, '1962-02-18 00:00:00', '2002-08-14 00:00:00', '11120 Jasper Ave NW', 'Edmonton', 'AB', 'Canada', 'T5K 2N1', '+1 (780) 428-9482', '+1 (780) 428-3457', 'andrew@chinookcorp.com')\n",
      "(2, 'Edwards', 'Nancy', 'Sales Manager', 1, '1958-12-08 00:00:00', '2002-05-01 00:00:00', '825 8 Ave SW', 'Calgary', 'AB', 'Canada', 'T2P 2T3', '+1 (403) 262-3443', '+1 (403) 262-3322', 'nancy@chinookcorp.com')\n",
      "(3, 'Peacock', 'Jane', 'Sales Support Agent', 2, '1973-08-29 00:00:00', '2002-04-01 00:00:00', '1111 6 Ave SW', 'Calgary', 'AB', 'Canada', 'T2P 5M5', '+1 (403) 262-3443', '+1 (403) 262-6712', 'jane@chinookcorp.com')\n",
      "(4, 'Park', 'Margaret', 'Sales Support Agent', 2, '1947-09-19 00:00:00', '2003-05-03 00:00:00', '683 10 Street SW', 'Calgary', 'AB', 'Canada', 'T2P 5G3', '+1 (403) 263-4423', '+1 (403) 263-4289', 'margaret@chinookcorp.com')\n",
      "(5, 'Johnson', 'Steve', 'Sales Support Agent', 2, '1965-03-03 00:00:00', '2003-10-17 00:00:00', '7727B 41 Ave', 'Calgary', 'AB', 'Canada', 'T3B 1Y7', '1 (780) 836-9987', '1 (780) 836-9543', 'steve@chinookcorp.com')\n",
      "(6, 'Mitchell', 'Michael', 'IT Manager', 1, '1973-07-01 00:00:00', '2003-10-17 00:00:00', '5827 Bowness Road NW', 'Calgary', 'AB', 'Canada', 'T3B 0C5', '+1 (403) 246-9887', '+1 (403) 246-9899', 'michael@chinookcorp.com')\n",
      "(7, 'King', 'Robert', 'IT Staff', 6, '1970-05-29 00:00:00', '2004-01-02 00:00:00', '590 Columbia Boulevard West', 'Lethbridge', 'AB', 'Canada', 'T1K 5N8', '+1 (403) 456-9986', '+1 (403) 456-8485', 'robert@chinookcorp.com')\n",
      "(8, 'Callahan', 'Laura', 'IT Staff', 6, '1968-01-09 00:00:00', '2004-03-04 00:00:00', '923 7 ST NW', 'Lethbridge', 'AB', 'Canada', 'T1H 1Y8', '+1 (403) 467-3351', '+1 (403) 467-8772', 'laura@chinookcorp.com')\n"
     ]
    }
   ],
   "source": [
    "for details in df:\n",
    "    print(details)"
   ]
  },
  {
   "cell_type": "code",
   "execution_count": 52,
   "metadata": {},
   "outputs": [],
   "source": [
    "#Sqlite file access by Pandas"
   ]
  },
  {
   "cell_type": "code",
   "execution_count": 53,
   "metadata": {},
   "outputs": [],
   "source": [
    "df1 = pd.read_sql_query(\"select * from employees\", conn)\n",
    "\n",
    "#conn - we have already conected to database under conn variable"
   ]
  },
  {
   "cell_type": "code",
   "execution_count": 54,
   "metadata": {},
   "outputs": [
    {
     "data": {
      "text/html": [
       "<div>\n",
       "<style scoped>\n",
       "    .dataframe tbody tr th:only-of-type {\n",
       "        vertical-align: middle;\n",
       "    }\n",
       "\n",
       "    .dataframe tbody tr th {\n",
       "        vertical-align: top;\n",
       "    }\n",
       "\n",
       "    .dataframe thead th {\n",
       "        text-align: right;\n",
       "    }\n",
       "</style>\n",
       "<table border=\"1\" class=\"dataframe\">\n",
       "  <thead>\n",
       "    <tr style=\"text-align: right;\">\n",
       "      <th></th>\n",
       "      <th>EmployeeId</th>\n",
       "      <th>LastName</th>\n",
       "      <th>FirstName</th>\n",
       "      <th>Title</th>\n",
       "      <th>ReportsTo</th>\n",
       "      <th>BirthDate</th>\n",
       "      <th>HireDate</th>\n",
       "      <th>Address</th>\n",
       "      <th>City</th>\n",
       "      <th>State</th>\n",
       "      <th>Country</th>\n",
       "      <th>PostalCode</th>\n",
       "      <th>Phone</th>\n",
       "      <th>Fax</th>\n",
       "      <th>Email</th>\n",
       "    </tr>\n",
       "  </thead>\n",
       "  <tbody>\n",
       "    <tr>\n",
       "      <th>0</th>\n",
       "      <td>1</td>\n",
       "      <td>Adams</td>\n",
       "      <td>Andrew</td>\n",
       "      <td>General Manager</td>\n",
       "      <td>NaN</td>\n",
       "      <td>1962-02-18 00:00:00</td>\n",
       "      <td>2002-08-14 00:00:00</td>\n",
       "      <td>11120 Jasper Ave NW</td>\n",
       "      <td>Edmonton</td>\n",
       "      <td>AB</td>\n",
       "      <td>Canada</td>\n",
       "      <td>T5K 2N1</td>\n",
       "      <td>+1 (780) 428-9482</td>\n",
       "      <td>+1 (780) 428-3457</td>\n",
       "      <td>andrew@chinookcorp.com</td>\n",
       "    </tr>\n",
       "    <tr>\n",
       "      <th>1</th>\n",
       "      <td>2</td>\n",
       "      <td>Edwards</td>\n",
       "      <td>Nancy</td>\n",
       "      <td>Sales Manager</td>\n",
       "      <td>1.0</td>\n",
       "      <td>1958-12-08 00:00:00</td>\n",
       "      <td>2002-05-01 00:00:00</td>\n",
       "      <td>825 8 Ave SW</td>\n",
       "      <td>Calgary</td>\n",
       "      <td>AB</td>\n",
       "      <td>Canada</td>\n",
       "      <td>T2P 2T3</td>\n",
       "      <td>+1 (403) 262-3443</td>\n",
       "      <td>+1 (403) 262-3322</td>\n",
       "      <td>nancy@chinookcorp.com</td>\n",
       "    </tr>\n",
       "    <tr>\n",
       "      <th>2</th>\n",
       "      <td>3</td>\n",
       "      <td>Peacock</td>\n",
       "      <td>Jane</td>\n",
       "      <td>Sales Support Agent</td>\n",
       "      <td>2.0</td>\n",
       "      <td>1973-08-29 00:00:00</td>\n",
       "      <td>2002-04-01 00:00:00</td>\n",
       "      <td>1111 6 Ave SW</td>\n",
       "      <td>Calgary</td>\n",
       "      <td>AB</td>\n",
       "      <td>Canada</td>\n",
       "      <td>T2P 5M5</td>\n",
       "      <td>+1 (403) 262-3443</td>\n",
       "      <td>+1 (403) 262-6712</td>\n",
       "      <td>jane@chinookcorp.com</td>\n",
       "    </tr>\n",
       "    <tr>\n",
       "      <th>3</th>\n",
       "      <td>4</td>\n",
       "      <td>Park</td>\n",
       "      <td>Margaret</td>\n",
       "      <td>Sales Support Agent</td>\n",
       "      <td>2.0</td>\n",
       "      <td>1947-09-19 00:00:00</td>\n",
       "      <td>2003-05-03 00:00:00</td>\n",
       "      <td>683 10 Street SW</td>\n",
       "      <td>Calgary</td>\n",
       "      <td>AB</td>\n",
       "      <td>Canada</td>\n",
       "      <td>T2P 5G3</td>\n",
       "      <td>+1 (403) 263-4423</td>\n",
       "      <td>+1 (403) 263-4289</td>\n",
       "      <td>margaret@chinookcorp.com</td>\n",
       "    </tr>\n",
       "    <tr>\n",
       "      <th>4</th>\n",
       "      <td>5</td>\n",
       "      <td>Johnson</td>\n",
       "      <td>Steve</td>\n",
       "      <td>Sales Support Agent</td>\n",
       "      <td>2.0</td>\n",
       "      <td>1965-03-03 00:00:00</td>\n",
       "      <td>2003-10-17 00:00:00</td>\n",
       "      <td>7727B 41 Ave</td>\n",
       "      <td>Calgary</td>\n",
       "      <td>AB</td>\n",
       "      <td>Canada</td>\n",
       "      <td>T3B 1Y7</td>\n",
       "      <td>1 (780) 836-9987</td>\n",
       "      <td>1 (780) 836-9543</td>\n",
       "      <td>steve@chinookcorp.com</td>\n",
       "    </tr>\n",
       "    <tr>\n",
       "      <th>5</th>\n",
       "      <td>6</td>\n",
       "      <td>Mitchell</td>\n",
       "      <td>Michael</td>\n",
       "      <td>IT Manager</td>\n",
       "      <td>1.0</td>\n",
       "      <td>1973-07-01 00:00:00</td>\n",
       "      <td>2003-10-17 00:00:00</td>\n",
       "      <td>5827 Bowness Road NW</td>\n",
       "      <td>Calgary</td>\n",
       "      <td>AB</td>\n",
       "      <td>Canada</td>\n",
       "      <td>T3B 0C5</td>\n",
       "      <td>+1 (403) 246-9887</td>\n",
       "      <td>+1 (403) 246-9899</td>\n",
       "      <td>michael@chinookcorp.com</td>\n",
       "    </tr>\n",
       "    <tr>\n",
       "      <th>6</th>\n",
       "      <td>7</td>\n",
       "      <td>King</td>\n",
       "      <td>Robert</td>\n",
       "      <td>IT Staff</td>\n",
       "      <td>6.0</td>\n",
       "      <td>1970-05-29 00:00:00</td>\n",
       "      <td>2004-01-02 00:00:00</td>\n",
       "      <td>590 Columbia Boulevard West</td>\n",
       "      <td>Lethbridge</td>\n",
       "      <td>AB</td>\n",
       "      <td>Canada</td>\n",
       "      <td>T1K 5N8</td>\n",
       "      <td>+1 (403) 456-9986</td>\n",
       "      <td>+1 (403) 456-8485</td>\n",
       "      <td>robert@chinookcorp.com</td>\n",
       "    </tr>\n",
       "    <tr>\n",
       "      <th>7</th>\n",
       "      <td>8</td>\n",
       "      <td>Callahan</td>\n",
       "      <td>Laura</td>\n",
       "      <td>IT Staff</td>\n",
       "      <td>6.0</td>\n",
       "      <td>1968-01-09 00:00:00</td>\n",
       "      <td>2004-03-04 00:00:00</td>\n",
       "      <td>923 7 ST NW</td>\n",
       "      <td>Lethbridge</td>\n",
       "      <td>AB</td>\n",
       "      <td>Canada</td>\n",
       "      <td>T1H 1Y8</td>\n",
       "      <td>+1 (403) 467-3351</td>\n",
       "      <td>+1 (403) 467-8772</td>\n",
       "      <td>laura@chinookcorp.com</td>\n",
       "    </tr>\n",
       "  </tbody>\n",
       "</table>\n",
       "</div>"
      ],
      "text/plain": [
       "   EmployeeId  LastName FirstName                Title  ReportsTo  \\\n",
       "0           1     Adams    Andrew      General Manager        NaN   \n",
       "1           2   Edwards     Nancy        Sales Manager        1.0   \n",
       "2           3   Peacock      Jane  Sales Support Agent        2.0   \n",
       "3           4      Park  Margaret  Sales Support Agent        2.0   \n",
       "4           5   Johnson     Steve  Sales Support Agent        2.0   \n",
       "5           6  Mitchell   Michael           IT Manager        1.0   \n",
       "6           7      King    Robert             IT Staff        6.0   \n",
       "7           8  Callahan     Laura             IT Staff        6.0   \n",
       "\n",
       "             BirthDate             HireDate                      Address  \\\n",
       "0  1962-02-18 00:00:00  2002-08-14 00:00:00          11120 Jasper Ave NW   \n",
       "1  1958-12-08 00:00:00  2002-05-01 00:00:00                 825 8 Ave SW   \n",
       "2  1973-08-29 00:00:00  2002-04-01 00:00:00                1111 6 Ave SW   \n",
       "3  1947-09-19 00:00:00  2003-05-03 00:00:00             683 10 Street SW   \n",
       "4  1965-03-03 00:00:00  2003-10-17 00:00:00                 7727B 41 Ave   \n",
       "5  1973-07-01 00:00:00  2003-10-17 00:00:00         5827 Bowness Road NW   \n",
       "6  1970-05-29 00:00:00  2004-01-02 00:00:00  590 Columbia Boulevard West   \n",
       "7  1968-01-09 00:00:00  2004-03-04 00:00:00                  923 7 ST NW   \n",
       "\n",
       "         City State Country PostalCode              Phone                Fax  \\\n",
       "0    Edmonton    AB  Canada    T5K 2N1  +1 (780) 428-9482  +1 (780) 428-3457   \n",
       "1     Calgary    AB  Canada    T2P 2T3  +1 (403) 262-3443  +1 (403) 262-3322   \n",
       "2     Calgary    AB  Canada    T2P 5M5  +1 (403) 262-3443  +1 (403) 262-6712   \n",
       "3     Calgary    AB  Canada    T2P 5G3  +1 (403) 263-4423  +1 (403) 263-4289   \n",
       "4     Calgary    AB  Canada    T3B 1Y7   1 (780) 836-9987   1 (780) 836-9543   \n",
       "5     Calgary    AB  Canada    T3B 0C5  +1 (403) 246-9887  +1 (403) 246-9899   \n",
       "6  Lethbridge    AB  Canada    T1K 5N8  +1 (403) 456-9986  +1 (403) 456-8485   \n",
       "7  Lethbridge    AB  Canada    T1H 1Y8  +1 (403) 467-3351  +1 (403) 467-8772   \n",
       "\n",
       "                      Email  \n",
       "0    andrew@chinookcorp.com  \n",
       "1     nancy@chinookcorp.com  \n",
       "2      jane@chinookcorp.com  \n",
       "3  margaret@chinookcorp.com  \n",
       "4     steve@chinookcorp.com  \n",
       "5   michael@chinookcorp.com  \n",
       "6    robert@chinookcorp.com  \n",
       "7     laura@chinookcorp.com  "
      ]
     },
     "execution_count": 54,
     "metadata": {},
     "output_type": "execute_result"
    }
   ],
   "source": [
    "df1"
   ]
  }
 ],
 "metadata": {
  "kernelspec": {
   "display_name": "Python 3",
   "language": "python",
   "name": "python3"
  },
  "language_info": {
   "codemirror_mode": {
    "name": "ipython",
    "version": 3
   },
   "file_extension": ".py",
   "mimetype": "text/x-python",
   "name": "python",
   "nbconvert_exporter": "python",
   "pygments_lexer": "ipython3",
   "version": "3.6.6"
  }
 },
 "nbformat": 4,
 "nbformat_minor": 2
}
