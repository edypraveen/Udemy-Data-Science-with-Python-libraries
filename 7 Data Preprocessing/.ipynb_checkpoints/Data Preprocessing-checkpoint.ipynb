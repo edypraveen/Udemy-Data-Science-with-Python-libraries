{
 "cells": [
  {
   "cell_type": "markdown",
   "metadata": {},
   "source": [
    "## Data Preprocessing\n",
    "\n",
    "1. Importing python library\n",
    "2. Reading Data\n",
    "3. Missing Data\n",
    "4. Deal with Categorical Data\n",
    "5. Splitting Data\n",
    "6. Normalize Data"
   ]
  },
  {
   "cell_type": "code",
   "execution_count": 1,
   "metadata": {},
   "outputs": [],
   "source": [
    "import numpy as np\n",
    "import pandas as pd"
   ]
  },
  {
   "cell_type": "code",
   "execution_count": 2,
   "metadata": {},
   "outputs": [],
   "source": [
    "data = pd.read_csv('2.1 Data.csv')"
   ]
  },
  {
   "cell_type": "code",
   "execution_count": 3,
   "metadata": {},
   "outputs": [
    {
     "data": {
      "text/html": [
       "<div>\n",
       "<style scoped>\n",
       "    .dataframe tbody tr th:only-of-type {\n",
       "        vertical-align: middle;\n",
       "    }\n",
       "\n",
       "    .dataframe tbody tr th {\n",
       "        vertical-align: top;\n",
       "    }\n",
       "\n",
       "    .dataframe thead th {\n",
       "        text-align: right;\n",
       "    }\n",
       "</style>\n",
       "<table border=\"1\" class=\"dataframe\">\n",
       "  <thead>\n",
       "    <tr style=\"text-align: right;\">\n",
       "      <th></th>\n",
       "      <th>City</th>\n",
       "      <th>Age</th>\n",
       "      <th>Sex</th>\n",
       "      <th>Smoke</th>\n",
       "      <th>HappinessIndex</th>\n",
       "      <th>Healthy</th>\n",
       "    </tr>\n",
       "  </thead>\n",
       "  <tbody>\n",
       "    <tr>\n",
       "      <th>0</th>\n",
       "      <td>Mumbai</td>\n",
       "      <td>24.0</td>\n",
       "      <td>Male</td>\n",
       "      <td>Yes</td>\n",
       "      <td>241.0</td>\n",
       "      <td>Yes</td>\n",
       "    </tr>\n",
       "    <tr>\n",
       "      <th>1</th>\n",
       "      <td>London</td>\n",
       "      <td>80.0</td>\n",
       "      <td>Female</td>\n",
       "      <td>No</td>\n",
       "      <td>928.0</td>\n",
       "      <td>No</td>\n",
       "    </tr>\n",
       "    <tr>\n",
       "      <th>2</th>\n",
       "      <td>NewYork</td>\n",
       "      <td>38.0</td>\n",
       "      <td>Male</td>\n",
       "      <td>Yes</td>\n",
       "      <td>NaN</td>\n",
       "      <td>Yes</td>\n",
       "    </tr>\n",
       "    <tr>\n",
       "      <th>3</th>\n",
       "      <td>NewYork</td>\n",
       "      <td>22.0</td>\n",
       "      <td>Female</td>\n",
       "      <td>Yes</td>\n",
       "      <td>786.0</td>\n",
       "      <td>Yes</td>\n",
       "    </tr>\n",
       "    <tr>\n",
       "      <th>4</th>\n",
       "      <td>NewYork</td>\n",
       "      <td>36.0</td>\n",
       "      <td>Male</td>\n",
       "      <td>Yes</td>\n",
       "      <td>967.0</td>\n",
       "      <td>Yes</td>\n",
       "    </tr>\n",
       "    <tr>\n",
       "      <th>5</th>\n",
       "      <td>London</td>\n",
       "      <td>NaN</td>\n",
       "      <td>Female</td>\n",
       "      <td>Yes</td>\n",
       "      <td>665.0</td>\n",
       "      <td>Yes</td>\n",
       "    </tr>\n",
       "    <tr>\n",
       "      <th>6</th>\n",
       "      <td>Mumbai</td>\n",
       "      <td>17.0</td>\n",
       "      <td>Female</td>\n",
       "      <td>No</td>\n",
       "      <td>293.0</td>\n",
       "      <td>No</td>\n",
       "    </tr>\n",
       "    <tr>\n",
       "      <th>7</th>\n",
       "      <td>NewYork</td>\n",
       "      <td>28.0</td>\n",
       "      <td>Female</td>\n",
       "      <td>No</td>\n",
       "      <td>494.0</td>\n",
       "      <td>Yes</td>\n",
       "    </tr>\n",
       "    <tr>\n",
       "      <th>8</th>\n",
       "      <td>Mumbai</td>\n",
       "      <td>45.0</td>\n",
       "      <td>Female</td>\n",
       "      <td>No</td>\n",
       "      <td>707.0</td>\n",
       "      <td>No</td>\n",
       "    </tr>\n",
       "    <tr>\n",
       "      <th>9</th>\n",
       "      <td>London</td>\n",
       "      <td>29.0</td>\n",
       "      <td>Male</td>\n",
       "      <td>Yes</td>\n",
       "      <td>599.0</td>\n",
       "      <td>No</td>\n",
       "    </tr>\n",
       "  </tbody>\n",
       "</table>\n",
       "</div>"
      ],
      "text/plain": [
       "      City   Age     Sex Smoke  HappinessIndex Healthy\n",
       "0   Mumbai  24.0    Male   Yes           241.0     Yes\n",
       "1   London  80.0  Female    No           928.0      No\n",
       "2  NewYork  38.0    Male   Yes             NaN     Yes\n",
       "3  NewYork  22.0  Female   Yes           786.0     Yes\n",
       "4  NewYork  36.0    Male   Yes           967.0     Yes\n",
       "5   London   NaN  Female   Yes           665.0     Yes\n",
       "6   Mumbai  17.0  Female    No           293.0      No\n",
       "7  NewYork  28.0  Female    No           494.0     Yes\n",
       "8   Mumbai  45.0  Female    No           707.0      No\n",
       "9   London  29.0    Male   Yes           599.0      No"
      ]
     },
     "execution_count": 3,
     "metadata": {},
     "output_type": "execute_result"
    }
   ],
   "source": [
    "data"
   ]
  },
  {
   "cell_type": "code",
   "execution_count": 4,
   "metadata": {},
   "outputs": [],
   "source": [
    "X = data.iloc[:,0:5].values #without values, it'll create dataframe\n",
    "y = data.iloc[:,5].values"
   ]
  },
  {
   "cell_type": "code",
   "execution_count": 5,
   "metadata": {},
   "outputs": [
    {
     "data": {
      "text/plain": [
       "array([['Mumbai', 24.0, 'Male', 'Yes', 241.0],\n",
       "       ['London', 80.0, 'Female', 'No', 928.0],\n",
       "       ['NewYork', 38.0, 'Male', 'Yes', nan],\n",
       "       ['NewYork', 22.0, 'Female', 'Yes', 786.0],\n",
       "       ['NewYork', 36.0, 'Male', 'Yes', 967.0],\n",
       "       ['London', nan, 'Female', 'Yes', 665.0],\n",
       "       ['Mumbai', 17.0, 'Female', 'No', 293.0],\n",
       "       ['NewYork', 28.0, 'Female', 'No', 494.0],\n",
       "       ['Mumbai', 45.0, 'Female', 'No', 707.0],\n",
       "       ['London', 29.0, 'Male', 'Yes', 599.0]], dtype=object)"
      ]
     },
     "execution_count": 5,
     "metadata": {},
     "output_type": "execute_result"
    }
   ],
   "source": [
    "X"
   ]
  },
  {
   "cell_type": "markdown",
   "metadata": {},
   "source": [
    "## Missing Data"
   ]
  },
  {
   "cell_type": "code",
   "execution_count": 6,
   "metadata": {},
   "outputs": [],
   "source": [
    "from sklearn.preprocessing import Imputer"
   ]
  },
  {
   "cell_type": "code",
   "execution_count": 7,
   "metadata": {},
   "outputs": [],
   "source": [
    "imputer = Imputer(missing_values= 'NaN',strategy= 'mean',axis = 0)"
   ]
  },
  {
   "cell_type": "code",
   "execution_count": 8,
   "metadata": {},
   "outputs": [
    {
     "data": {
      "text/plain": [
       "array([[24.0],\n",
       "       [80.0],\n",
       "       [38.0],\n",
       "       [22.0],\n",
       "       [36.0],\n",
       "       [nan],\n",
       "       [17.0],\n",
       "       [28.0],\n",
       "       [45.0],\n",
       "       [29.0]], dtype=object)"
      ]
     },
     "execution_count": 8,
     "metadata": {},
     "output_type": "execute_result"
    }
   ],
   "source": [
    "X[:,1:2]"
   ]
  },
  {
   "cell_type": "code",
   "execution_count": 9,
   "metadata": {},
   "outputs": [],
   "source": [
    "X[:,1:2] = imputer.fit_transform(X[:,1:2])\n",
    "\n",
    "X[:,4:5] = imputer.fit_transform(X[:,4:5])\n",
    "\n",
    "#.fit - calculates the mean of missing values in particular column and later we have to fillout values separately byy transform\n",
    "#.fit_transform - does both fit and transform"
   ]
  },
  {
   "cell_type": "code",
   "execution_count": 10,
   "metadata": {},
   "outputs": [
    {
     "data": {
      "text/plain": [
       "array([['Mumbai', 24.0, 'Male', 'Yes', 241.0],\n",
       "       ['London', 80.0, 'Female', 'No', 928.0],\n",
       "       ['NewYork', 38.0, 'Male', 'Yes', 631.1111111111111],\n",
       "       ['NewYork', 22.0, 'Female', 'Yes', 786.0],\n",
       "       ['NewYork', 36.0, 'Male', 'Yes', 967.0],\n",
       "       ['London', 35.44444444444444, 'Female', 'Yes', 665.0],\n",
       "       ['Mumbai', 17.0, 'Female', 'No', 293.0],\n",
       "       ['NewYork', 28.0, 'Female', 'No', 494.0],\n",
       "       ['Mumbai', 45.0, 'Female', 'No', 707.0],\n",
       "       ['London', 29.0, 'Male', 'Yes', 599.0]], dtype=object)"
      ]
     },
     "execution_count": 10,
     "metadata": {},
     "output_type": "execute_result"
    }
   ],
   "source": [
    "X"
   ]
  },
  {
   "cell_type": "code",
   "execution_count": 13,
   "metadata": {},
   "outputs": [
    {
     "data": {
      "text/plain": [
       "array(['Yes', 'No', 'Yes', 'Yes', 'Yes', 'Yes', 'No', 'Yes', 'No', 'No'],\n",
       "      dtype=object)"
      ]
     },
     "execution_count": 13,
     "metadata": {},
     "output_type": "execute_result"
    }
   ],
   "source": [
    "y"
   ]
  },
  {
   "cell_type": "markdown",
   "metadata": {},
   "source": [
    "## Categorical Data\n",
    "\n",
    "In Machine Learning, numeric data is taken into account. It doesn't understand the non-numeric data like strings.\n",
    "\n",
    "Under this category, we gonna see how can we make use of categorical data in our model"
   ]
  },
  {
   "cell_type": "code",
   "execution_count": 12,
   "metadata": {},
   "outputs": [
    {
     "data": {
      "text/plain": [
       "array([['Mumbai', 24.0, 'Male', 'Yes', 241.0],\n",
       "       ['London', 80.0, 'Female', 'No', 928.0],\n",
       "       ['NewYork', 38.0, 'Male', 'Yes', 631.1111111111111],\n",
       "       ['NewYork', 22.0, 'Female', 'Yes', 786.0],\n",
       "       ['NewYork', 36.0, 'Male', 'Yes', 967.0],\n",
       "       ['London', 35.44444444444444, 'Female', 'Yes', 665.0],\n",
       "       ['Mumbai', 17.0, 'Female', 'No', 293.0],\n",
       "       ['NewYork', 28.0, 'Female', 'No', 494.0],\n",
       "       ['Mumbai', 45.0, 'Female', 'No', 707.0],\n",
       "       ['London', 29.0, 'Male', 'Yes', 599.0]], dtype=object)"
      ]
     },
     "execution_count": 12,
     "metadata": {},
     "output_type": "execute_result"
    }
   ],
   "source": [
    "X #Here city, sex and Yes/No are strings"
   ]
  },
  {
   "cell_type": "markdown",
   "metadata": {},
   "source": [
    "----\n",
    "If there are two categories(Y/N), we can convert Yes -> 1 and No -> 0 using **LabelEncoder**\n",
    "\n",
    "In case of more than 2 categories, we can't convert (Mum - 0, Lon - 1, New - 2) as ML model consider that New>Lon>Mum automatically. That's not our Intention. In order to overcome, the solution is **One Hot Encoder**\n",
    "\n",
    "Mum  Lon  New <br>\n",
    "1     0    0 <br>\n",
    "0     1    0"
   ]
  },
  {
   "cell_type": "code",
   "execution_count": 14,
   "metadata": {},
   "outputs": [],
   "source": [
    "from sklearn.preprocessing import LabelEncoder, OneHotEncoder"
   ]
  },
  {
   "cell_type": "code",
   "execution_count": 15,
   "metadata": {},
   "outputs": [],
   "source": [
    "le_x = LabelEncoder()\n",
    "le_y = LabelEncoder()\n",
    "\n",
    "#LabelEncoder() is used for both i/p and o/p"
   ]
  },
  {
   "cell_type": "code",
   "execution_count": 16,
   "metadata": {},
   "outputs": [],
   "source": [
    "X[:,0] = le_x.fit_transform(X[:,0])\n",
    "X[:,2] = le_x.fit_transform(X[:,2])\n",
    "X[:,3] = le_x.fit_transform(X[:,3])\n",
    "y = le_y.fit_transform(y)"
   ]
  },
  {
   "cell_type": "code",
   "execution_count": 18,
   "metadata": {},
   "outputs": [
    {
     "data": {
      "text/plain": [
       "array([[1, 24.0, 1, 1, 241.0],\n",
       "       [0, 80.0, 0, 0, 928.0],\n",
       "       [2, 38.0, 1, 1, 631.1111111111111],\n",
       "       [2, 22.0, 0, 1, 786.0],\n",
       "       [2, 36.0, 1, 1, 967.0],\n",
       "       [0, 35.44444444444444, 0, 1, 665.0],\n",
       "       [1, 17.0, 0, 0, 293.0],\n",
       "       [2, 28.0, 0, 0, 494.0],\n",
       "       [1, 45.0, 0, 0, 707.0],\n",
       "       [0, 29.0, 1, 1, 599.0]], dtype=object)"
      ]
     },
     "execution_count": 18,
     "metadata": {},
     "output_type": "execute_result"
    }
   ],
   "source": [
    "X #cities, sex and Y/N have been changed. but we have use OneHotEncoder for cities again"
   ]
  },
  {
   "cell_type": "code",
   "execution_count": 19,
   "metadata": {},
   "outputs": [
    {
     "data": {
      "text/plain": [
       "array([1, 0, 1, 1, 1, 1, 0, 1, 0, 0], dtype=int64)"
      ]
     },
     "execution_count": 19,
     "metadata": {},
     "output_type": "execute_result"
    }
   ],
   "source": [
    "y"
   ]
  },
  {
   "cell_type": "code",
   "execution_count": 20,
   "metadata": {},
   "outputs": [],
   "source": [
    "onehot = OneHotEncoder(categorical_features=[0])"
   ]
  },
  {
   "cell_type": "code",
   "execution_count": 21,
   "metadata": {},
   "outputs": [],
   "source": [
    "X = onehot.fit_transform(X).toarray() #converts to array after changes"
   ]
  },
  {
   "cell_type": "code",
   "execution_count": 23,
   "metadata": {},
   "outputs": [
    {
     "data": {
      "text/plain": [
       "array([[  0.        ,   1.        ,   0.        ,  24.        ,\n",
       "          1.        ,   1.        , 241.        ],\n",
       "       [  1.        ,   0.        ,   0.        ,  80.        ,\n",
       "          0.        ,   0.        , 928.        ],\n",
       "       [  0.        ,   0.        ,   1.        ,  38.        ,\n",
       "          1.        ,   1.        , 631.11111111],\n",
       "       [  0.        ,   0.        ,   1.        ,  22.        ,\n",
       "          0.        ,   1.        , 786.        ],\n",
       "       [  0.        ,   0.        ,   1.        ,  36.        ,\n",
       "          1.        ,   1.        , 967.        ],\n",
       "       [  1.        ,   0.        ,   0.        ,  35.44444444,\n",
       "          0.        ,   1.        , 665.        ],\n",
       "       [  0.        ,   1.        ,   0.        ,  17.        ,\n",
       "          0.        ,   0.        , 293.        ],\n",
       "       [  0.        ,   0.        ,   1.        ,  28.        ,\n",
       "          0.        ,   0.        , 494.        ],\n",
       "       [  0.        ,   1.        ,   0.        ,  45.        ,\n",
       "          0.        ,   0.        , 707.        ],\n",
       "       [  1.        ,   0.        ,   0.        ,  29.        ,\n",
       "          1.        ,   1.        , 599.        ]])"
      ]
     },
     "execution_count": 23,
     "metadata": {},
     "output_type": "execute_result"
    }
   ],
   "source": [
    "X #first three indicates the city in onehotecncoder matrix"
   ]
  },
  {
   "cell_type": "markdown",
   "metadata": {},
   "source": [
    "## Splitting train and test data"
   ]
  },
  {
   "cell_type": "code",
   "execution_count": 24,
   "metadata": {},
   "outputs": [],
   "source": [
    "from sklearn.cross_validation import train_test_split"
   ]
  },
  {
   "cell_type": "code",
   "execution_count": 25,
   "metadata": {},
   "outputs": [],
   "source": [
    "X_train, X_test, y_train, y_test = train_test_split(X,y,test_size = 0.2)"
   ]
  },
  {
   "cell_type": "code",
   "execution_count": 27,
   "metadata": {},
   "outputs": [
    {
     "data": {
      "text/plain": [
       "array([[  0.        ,   1.        ,   0.        ,  24.        ,\n",
       "          1.        ,   1.        , 241.        ],\n",
       "       [  1.        ,   0.        ,   0.        ,  80.        ,\n",
       "          0.        ,   0.        , 928.        ],\n",
       "       [  0.        ,   0.        ,   1.        ,  38.        ,\n",
       "          1.        ,   1.        , 631.11111111],\n",
       "       [  0.        ,   0.        ,   1.        ,  22.        ,\n",
       "          0.        ,   1.        , 786.        ],\n",
       "       [  0.        ,   0.        ,   1.        ,  36.        ,\n",
       "          1.        ,   1.        , 967.        ],\n",
       "       [  1.        ,   0.        ,   0.        ,  35.44444444,\n",
       "          0.        ,   1.        , 665.        ],\n",
       "       [  0.        ,   1.        ,   0.        ,  17.        ,\n",
       "          0.        ,   0.        , 293.        ],\n",
       "       [  0.        ,   0.        ,   1.        ,  28.        ,\n",
       "          0.        ,   0.        , 494.        ],\n",
       "       [  0.        ,   1.        ,   0.        ,  45.        ,\n",
       "          0.        ,   0.        , 707.        ],\n",
       "       [  1.        ,   0.        ,   0.        ,  29.        ,\n",
       "          1.        ,   1.        , 599.        ]])"
      ]
     },
     "execution_count": 27,
     "metadata": {},
     "output_type": "execute_result"
    }
   ],
   "source": [
    "X #total 10 i/p's"
   ]
  },
  {
   "cell_type": "code",
   "execution_count": 29,
   "metadata": {},
   "outputs": [
    {
     "data": {
      "text/plain": [
       "array([1, 0, 0, 1, 1, 1, 0, 1], dtype=int64)"
      ]
     },
     "execution_count": 29,
     "metadata": {},
     "output_type": "execute_result"
    }
   ],
   "source": [
    "y_train #test size is 20% of 10, so it should be 8"
   ]
  },
  {
   "cell_type": "code",
   "execution_count": 30,
   "metadata": {},
   "outputs": [
    {
     "data": {
      "text/plain": [
       "array([0, 1], dtype=int64)"
      ]
     },
     "execution_count": 30,
     "metadata": {},
     "output_type": "execute_result"
    }
   ],
   "source": [
    "y_test"
   ]
  },
  {
   "cell_type": "markdown",
   "metadata": {},
   "source": [
    "## Normalize Data"
   ]
  },
  {
   "cell_type": "code",
   "execution_count": 31,
   "metadata": {},
   "outputs": [],
   "source": [
    "from sklearn.preprocessing import StandardScaler"
   ]
  },
  {
   "cell_type": "code",
   "execution_count": 32,
   "metadata": {},
   "outputs": [],
   "source": [
    "#we have huge difference in X value only"
   ]
  },
  {
   "cell_type": "code",
   "execution_count": 33,
   "metadata": {},
   "outputs": [],
   "source": [
    "ss_x = StandardScaler()"
   ]
  },
  {
   "cell_type": "code",
   "execution_count": 34,
   "metadata": {},
   "outputs": [],
   "source": [
    "X_train=ss_x.fit_transform(X_train)\n",
    "X_test=ss_x.transform(X_test)"
   ]
  },
  {
   "cell_type": "code",
   "execution_count": 35,
   "metadata": {},
   "outputs": [
    {
     "data": {
      "text/plain": [
       "array([[ 1.29099445, -0.37796447, -1.        , -0.22280927, -0.77459667,\n",
       "         0.77459667, -0.37533278],\n",
       "       [ 1.29099445, -0.37796447, -1.        ,  2.43433619, -0.77459667,\n",
       "        -1.29099445,  1.35225629],\n",
       "       [-0.77459667,  2.64575131, -1.        ,  0.34705235, -0.77459667,\n",
       "        -1.29099445, -0.09944403],\n",
       "       [-0.77459667, -0.37796447,  1.        , -1.02459131, -0.77459667,\n",
       "         0.77459667,  0.41948957],\n",
       "       [-0.77459667, -0.37796447,  1.        , -0.66677123, -0.77459667,\n",
       "        -1.29099445, -1.49859411],\n",
       "       [-0.77459667, -0.37796447,  1.        , -0.18967778,  1.29099445,\n",
       "         0.77459667,  1.6084387 ],\n",
       "       [ 1.29099445, -0.37796447, -1.        , -0.60713454,  1.29099445,\n",
       "         0.77459667, -0.80887224],\n",
       "       [-0.77459667, -0.37796447,  1.        , -0.07040442,  1.29099445,\n",
       "         0.77459667, -0.59794142]])"
      ]
     },
     "execution_count": 35,
     "metadata": {},
     "output_type": "execute_result"
    }
   ],
   "source": [
    "X_train"
   ]
  },
  {
   "cell_type": "code",
   "execution_count": null,
   "metadata": {},
   "outputs": [],
   "source": []
  }
 ],
 "metadata": {
  "kernelspec": {
   "display_name": "Python 3",
   "language": "python",
   "name": "python3"
  },
  "language_info": {
   "codemirror_mode": {
    "name": "ipython",
    "version": 3
   },
   "file_extension": ".py",
   "mimetype": "text/x-python",
   "name": "python",
   "nbconvert_exporter": "python",
   "pygments_lexer": "ipython3",
   "version": "3.6.6"
  }
 },
 "nbformat": 4,
 "nbformat_minor": 2
}
